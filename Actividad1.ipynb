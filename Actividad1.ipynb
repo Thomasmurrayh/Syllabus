{
  "nbformat": 4,
  "nbformat_minor": 0,
  "metadata": {
    "colab": {
      "name": "Actividad1.ipynb",
      "version": "0.3.2",
      "provenance": [],
      "collapsed_sections": [],
      "include_colab_link": true
    },
    "kernelspec": {
      "name": "python3",
      "display_name": "Python 3"
    }
  },
  "cells": [
    {
      "cell_type": "markdown",
      "metadata": {
        "id": "view-in-github",
        "colab_type": "text"
      },
      "source": [
        "[View in Colaboratory](https://colab.research.google.com/github/Thomasmurrayh/Syllabus/blob/master/Actividad1.ipynb)"
      ]
    },
    {
      "metadata": {
        "id": "ZIAUR1BR0TE-",
        "colab_type": "code",
        "colab": {
          "base_uri": "https://localhost:8080/",
          "height": 231
        },
        "outputId": "5fb53a53-a698-4caa-b0e4-cee45c823b2e"
      },
      "cell_type": "code",
      "source": [
        "ListaE=[\"Tranca Perro\",\"Nuestra Señora Danielita\",\"Avenida Hans Lobel\",\"Plaza Mavrakis\",\"Hugo Hurtado\",\"San Halcón de Chicureo\",\"Quinta Osornal\",\"Cote d'Ivoire\",\"Manquehuito\",\"Hernando de Valdivia\"]\n",
        "\n",
        "class Estaciones:\n",
        "    \n",
        "    # Contacto se compone de una lista de contactos del tipo ContactList\n",
        "    \n",
        "    # notar que contactos_list es un atributo estático, o sea, es compartido por todos los objetos de la clase Contacto\n",
        "    # contactos_list = [] #así sería para usar una lista común y corriente    \n",
        "  estaciones_list = ListaE\n",
        "\n",
        "  def __init__(self, id, nombre, andenes, ocupada):\n",
        "      self.id = id\n",
        "      self.nombre = nombre\n",
        "      self.andenes = 2\n",
        "      self.ocupada = False\n",
        "##      Estaciones.e_list.append(self) # el método append() es heredado de la clase List()\n",
        "\n",
        "# Familiar es una clase especializada de contacto que permite incluir el tipo de relación\n",
        "class Anden(Estaciones):\n",
        "\n",
        "    def __init__(self, id, sentido, filas): # Overriding sobre el método __init__()\n",
        "        super().__init__(id, nombre, andenes, ocupada) # Obtiene la instancia del padre y llama a su funcion __init__\n",
        "        self.filas = 10\n",
        "        self.sentido = sentido\n",
        "        \n",
        "Lista_estaciones = []  \n",
        "Lista_andenes = []\n",
        "for i in range(10):\n",
        "    Lista_estaciones.append(Estaciones(i, ListaE[i], 2, False))\n",
        "    for j in range(2):\n",
        "      Lista_andenes.append(Anden(nombre=str(i), andenes = j,filas=10))\n",
        " \n",
        "print(Lista_estaciones)  \n",
        "print(Lista_estaciones[3].andenes)\n",
        "print(Lista_andenes[5].sentido)"
      ],
      "execution_count": 7,
      "outputs": [
        {
          "output_type": "error",
          "ename": "TypeError",
          "evalue": "ignored",
          "traceback": [
            "\u001b[0;31m---------------------------------------------------------------------------\u001b[0m",
            "\u001b[0;31mTypeError\u001b[0m                                 Traceback (most recent call last)",
            "\u001b[0;32m<ipython-input-7-60c187b37a04>\u001b[0m in \u001b[0;36m<module>\u001b[0;34m()\u001b[0m\n\u001b[1;32m     29\u001b[0m     \u001b[0mLista_estaciones\u001b[0m\u001b[0;34m.\u001b[0m\u001b[0mappend\u001b[0m\u001b[0;34m(\u001b[0m\u001b[0mEstaciones\u001b[0m\u001b[0;34m(\u001b[0m\u001b[0mi\u001b[0m\u001b[0;34m,\u001b[0m \u001b[0mListaE\u001b[0m\u001b[0;34m[\u001b[0m\u001b[0mi\u001b[0m\u001b[0;34m]\u001b[0m\u001b[0;34m,\u001b[0m \u001b[0;36m2\u001b[0m\u001b[0;34m,\u001b[0m \u001b[0;32mFalse\u001b[0m\u001b[0;34m)\u001b[0m\u001b[0;34m)\u001b[0m\u001b[0;34m\u001b[0m\u001b[0m\n\u001b[1;32m     30\u001b[0m     \u001b[0;32mfor\u001b[0m \u001b[0mj\u001b[0m \u001b[0;32min\u001b[0m \u001b[0mrange\u001b[0m\u001b[0;34m(\u001b[0m\u001b[0;36m2\u001b[0m\u001b[0;34m)\u001b[0m\u001b[0;34m:\u001b[0m\u001b[0;34m\u001b[0m\u001b[0m\n\u001b[0;32m---> 31\u001b[0;31m       \u001b[0mLista_andenes\u001b[0m\u001b[0;34m.\u001b[0m\u001b[0mappend\u001b[0m\u001b[0;34m(\u001b[0m\u001b[0mAnden\u001b[0m\u001b[0;34m(\u001b[0m\u001b[0mnombre\u001b[0m\u001b[0;34m=\u001b[0m\u001b[0mstr\u001b[0m\u001b[0;34m(\u001b[0m\u001b[0mi\u001b[0m\u001b[0;34m)\u001b[0m\u001b[0;34m,\u001b[0m \u001b[0mandenes\u001b[0m \u001b[0;34m=\u001b[0m \u001b[0mj\u001b[0m\u001b[0;34m,\u001b[0m\u001b[0mfilas\u001b[0m\u001b[0;34m=\u001b[0m\u001b[0;36m10\u001b[0m\u001b[0;34m)\u001b[0m\u001b[0;34m)\u001b[0m\u001b[0;34m\u001b[0m\u001b[0m\n\u001b[0m\u001b[1;32m     32\u001b[0m \u001b[0;34m\u001b[0m\u001b[0m\n\u001b[1;32m     33\u001b[0m \u001b[0mprint\u001b[0m\u001b[0;34m(\u001b[0m\u001b[0mLista_estaciones\u001b[0m\u001b[0;34m)\u001b[0m\u001b[0;34m\u001b[0m\u001b[0m\n",
            "\u001b[0;31mTypeError\u001b[0m: __init__() got an unexpected keyword argument 'nombre'"
          ]
        }
      ]
    }
  ]
}